{
 "cells": [
  {
   "cell_type": "code",
   "execution_count": 1,
   "metadata": {},
   "outputs": [],
   "source": [
    "import numpy as np\n",
    "import seaborn as sns\n",
    "import matplotlib.pyplot as plt\n",
    "import pandas as pd\n",
    "from sklearn.preprocessing import LabelEncoder\n",
    "from tqdm import tqdm\n",
    "import time\n",
    "\n",
    "from sklearn import metrics\n",
    "from sklearn.cluster import KMeans, AgglomerativeClustering, DBSCAN\n",
    "from sklearn.preprocessing import MinMaxScaler, StandardScaler\n",
    "from sklearn.decomposition import PCA\n",
    "\n",
    "from sklearn.preprocessing import StandardScaler"
   ]
  },
  {
   "cell_type": "code",
   "execution_count": 2,
   "metadata": {},
   "outputs": [
    {
     "data": {
      "text/html": [
       "<div>\n",
       "<style scoped>\n",
       "    .dataframe tbody tr th:only-of-type {\n",
       "        vertical-align: middle;\n",
       "    }\n",
       "\n",
       "    .dataframe tbody tr th {\n",
       "        vertical-align: top;\n",
       "    }\n",
       "\n",
       "    .dataframe thead th {\n",
       "        text-align: right;\n",
       "    }\n",
       "</style>\n",
       "<table border=\"1\" class=\"dataframe\">\n",
       "  <thead>\n",
       "    <tr style=\"text-align: right;\">\n",
       "      <th></th>\n",
       "      <th>User</th>\n",
       "      <th>Card</th>\n",
       "      <th>Year</th>\n",
       "      <th>Month</th>\n",
       "      <th>Day</th>\n",
       "      <th>Time</th>\n",
       "      <th>Amount</th>\n",
       "      <th>Use Chip</th>\n",
       "      <th>Merchant Name</th>\n",
       "      <th>Merchant City</th>\n",
       "      <th>Merchant State</th>\n",
       "      <th>Zip</th>\n",
       "      <th>MCC</th>\n",
       "      <th>Errors?</th>\n",
       "      <th>Is Fraud?</th>\n",
       "    </tr>\n",
       "  </thead>\n",
       "  <tbody>\n",
       "    <tr>\n",
       "      <th>0</th>\n",
       "      <td>0</td>\n",
       "      <td>0</td>\n",
       "      <td>2002</td>\n",
       "      <td>9</td>\n",
       "      <td>1</td>\n",
       "      <td>06:21</td>\n",
       "      <td>$134.09</td>\n",
       "      <td>Swipe Transaction</td>\n",
       "      <td>3527213246127876953</td>\n",
       "      <td>La Verne</td>\n",
       "      <td>CA</td>\n",
       "      <td>91750.0</td>\n",
       "      <td>5300</td>\n",
       "      <td>NaN</td>\n",
       "      <td>No</td>\n",
       "    </tr>\n",
       "    <tr>\n",
       "      <th>1</th>\n",
       "      <td>0</td>\n",
       "      <td>0</td>\n",
       "      <td>2002</td>\n",
       "      <td>9</td>\n",
       "      <td>1</td>\n",
       "      <td>06:42</td>\n",
       "      <td>$38.48</td>\n",
       "      <td>Swipe Transaction</td>\n",
       "      <td>-727612092139916043</td>\n",
       "      <td>Monterey Park</td>\n",
       "      <td>CA</td>\n",
       "      <td>91754.0</td>\n",
       "      <td>5411</td>\n",
       "      <td>NaN</td>\n",
       "      <td>No</td>\n",
       "    </tr>\n",
       "    <tr>\n",
       "      <th>2</th>\n",
       "      <td>0</td>\n",
       "      <td>0</td>\n",
       "      <td>2002</td>\n",
       "      <td>9</td>\n",
       "      <td>2</td>\n",
       "      <td>06:22</td>\n",
       "      <td>$120.34</td>\n",
       "      <td>Swipe Transaction</td>\n",
       "      <td>-727612092139916043</td>\n",
       "      <td>Monterey Park</td>\n",
       "      <td>CA</td>\n",
       "      <td>91754.0</td>\n",
       "      <td>5411</td>\n",
       "      <td>NaN</td>\n",
       "      <td>No</td>\n",
       "    </tr>\n",
       "    <tr>\n",
       "      <th>3</th>\n",
       "      <td>0</td>\n",
       "      <td>0</td>\n",
       "      <td>2002</td>\n",
       "      <td>9</td>\n",
       "      <td>2</td>\n",
       "      <td>17:45</td>\n",
       "      <td>$128.95</td>\n",
       "      <td>Swipe Transaction</td>\n",
       "      <td>3414527459579106770</td>\n",
       "      <td>Monterey Park</td>\n",
       "      <td>CA</td>\n",
       "      <td>91754.0</td>\n",
       "      <td>5651</td>\n",
       "      <td>NaN</td>\n",
       "      <td>No</td>\n",
       "    </tr>\n",
       "    <tr>\n",
       "      <th>4</th>\n",
       "      <td>0</td>\n",
       "      <td>0</td>\n",
       "      <td>2002</td>\n",
       "      <td>9</td>\n",
       "      <td>3</td>\n",
       "      <td>06:23</td>\n",
       "      <td>$104.71</td>\n",
       "      <td>Swipe Transaction</td>\n",
       "      <td>5817218446178736267</td>\n",
       "      <td>La Verne</td>\n",
       "      <td>CA</td>\n",
       "      <td>91750.0</td>\n",
       "      <td>5912</td>\n",
       "      <td>NaN</td>\n",
       "      <td>No</td>\n",
       "    </tr>\n",
       "  </tbody>\n",
       "</table>\n",
       "</div>"
      ],
      "text/plain": [
       "   User  Card  Year  Month  Day   Time   Amount           Use Chip  \\\n",
       "0     0     0  2002      9    1  06:21  $134.09  Swipe Transaction   \n",
       "1     0     0  2002      9    1  06:42   $38.48  Swipe Transaction   \n",
       "2     0     0  2002      9    2  06:22  $120.34  Swipe Transaction   \n",
       "3     0     0  2002      9    2  17:45  $128.95  Swipe Transaction   \n",
       "4     0     0  2002      9    3  06:23  $104.71  Swipe Transaction   \n",
       "\n",
       "         Merchant Name  Merchant City Merchant State      Zip   MCC Errors?  \\\n",
       "0  3527213246127876953       La Verne             CA  91750.0  5300     NaN   \n",
       "1  -727612092139916043  Monterey Park             CA  91754.0  5411     NaN   \n",
       "2  -727612092139916043  Monterey Park             CA  91754.0  5411     NaN   \n",
       "3  3414527459579106770  Monterey Park             CA  91754.0  5651     NaN   \n",
       "4  5817218446178736267       La Verne             CA  91750.0  5912     NaN   \n",
       "\n",
       "  Is Fraud?  \n",
       "0        No  \n",
       "1        No  \n",
       "2        No  \n",
       "3        No  \n",
       "4        No  "
      ]
     },
     "execution_count": 2,
     "metadata": {},
     "output_type": "execute_result"
    }
   ],
   "source": [
    "cred_trans = pd.read_csv('data/credit_card_transactions-ibm_v2.csv')\n",
    "cred_trans.head()"
   ]
  },
  {
   "cell_type": "code",
   "execution_count": 7,
   "metadata": {},
   "outputs": [
    {
     "data": {
      "text/plain": [
       "(24386900, 21)"
      ]
     },
     "execution_count": 7,
     "metadata": {},
     "output_type": "execute_result"
    }
   ],
   "source": [
    "cred_trans.shape"
   ]
  },
  {
   "cell_type": "code",
   "execution_count": 3,
   "metadata": {},
   "outputs": [
    {
     "data": {
      "text/plain": [
       "User                int64\n",
       "Card                int64\n",
       "Year                int64\n",
       "Month               int64\n",
       "Day                 int64\n",
       "Time               object\n",
       "Amount             object\n",
       "Use Chip           object\n",
       "Merchant Name       int64\n",
       "Merchant City      object\n",
       "Merchant State     object\n",
       "Zip               float64\n",
       "MCC                 int64\n",
       "Errors?            object\n",
       "Is Fraud?          object\n",
       "dtype: object"
      ]
     },
     "execution_count": 3,
     "metadata": {},
     "output_type": "execute_result"
    }
   ],
   "source": [
    "cred_trans.dtypes"
   ]
  },
  {
   "cell_type": "code",
   "execution_count": 4,
   "metadata": {},
   "outputs": [
    {
     "data": {
      "text/plain": [
       "Index(['User', 'Card', 'Year', 'Month', 'Day', 'Time', 'Amount', 'Use_Chip',\n",
       "       'Merchant_Name', 'Merchant_City', 'Merchant_State', 'Zip', 'MCC',\n",
       "       'Errors', 'Is_Fraud'],\n",
       "      dtype='object')"
      ]
     },
     "execution_count": 4,
     "metadata": {},
     "output_type": "execute_result"
    }
   ],
   "source": [
    "## Let's remove the white space in the columns and replace them with underscore\n",
    "cred_trans.columns = [x.replace(\" \", \"_\").replace(\"?\", \"\") for x in cred_trans.columns]\n",
    "cred_trans.columns"
   ]
  },
  {
   "cell_type": "code",
   "execution_count": 5,
   "metadata": {},
   "outputs": [
    {
     "data": {
      "text/html": [
       "<div>\n",
       "<style scoped>\n",
       "    .dataframe tbody tr th:only-of-type {\n",
       "        vertical-align: middle;\n",
       "    }\n",
       "\n",
       "    .dataframe tbody tr th {\n",
       "        vertical-align: top;\n",
       "    }\n",
       "\n",
       "    .dataframe thead th {\n",
       "        text-align: right;\n",
       "    }\n",
       "</style>\n",
       "<table border=\"1\" class=\"dataframe\">\n",
       "  <thead>\n",
       "    <tr style=\"text-align: right;\">\n",
       "      <th></th>\n",
       "      <th>User</th>\n",
       "      <th>Card</th>\n",
       "      <th>Year</th>\n",
       "      <th>Month</th>\n",
       "      <th>Day</th>\n",
       "      <th>Time</th>\n",
       "      <th>Amount</th>\n",
       "      <th>Use_Chip</th>\n",
       "      <th>Merchant_Name</th>\n",
       "      <th>Merchant_City</th>\n",
       "      <th>Merchant_State</th>\n",
       "      <th>Zip</th>\n",
       "      <th>MCC</th>\n",
       "      <th>Errors</th>\n",
       "      <th>Is_Fraud</th>\n",
       "      <th>Hour</th>\n",
       "      <th>Minute</th>\n",
       "      <th>DateTime</th>\n",
       "      <th>DayOfWeek</th>\n",
       "    </tr>\n",
       "  </thead>\n",
       "  <tbody>\n",
       "    <tr>\n",
       "      <th>0</th>\n",
       "      <td>0</td>\n",
       "      <td>0</td>\n",
       "      <td>2002</td>\n",
       "      <td>9</td>\n",
       "      <td>1</td>\n",
       "      <td>06:21</td>\n",
       "      <td>$134.09</td>\n",
       "      <td>Swipe Transaction</td>\n",
       "      <td>3527213246127876953</td>\n",
       "      <td>La Verne</td>\n",
       "      <td>CA</td>\n",
       "      <td>91750.0</td>\n",
       "      <td>5300</td>\n",
       "      <td>NaN</td>\n",
       "      <td>No</td>\n",
       "      <td>6</td>\n",
       "      <td>21</td>\n",
       "      <td>2002-09-01 06:21:00</td>\n",
       "      <td>6</td>\n",
       "    </tr>\n",
       "    <tr>\n",
       "      <th>1</th>\n",
       "      <td>0</td>\n",
       "      <td>0</td>\n",
       "      <td>2002</td>\n",
       "      <td>9</td>\n",
       "      <td>1</td>\n",
       "      <td>06:42</td>\n",
       "      <td>$38.48</td>\n",
       "      <td>Swipe Transaction</td>\n",
       "      <td>-727612092139916043</td>\n",
       "      <td>Monterey Park</td>\n",
       "      <td>CA</td>\n",
       "      <td>91754.0</td>\n",
       "      <td>5411</td>\n",
       "      <td>NaN</td>\n",
       "      <td>No</td>\n",
       "      <td>6</td>\n",
       "      <td>42</td>\n",
       "      <td>2002-09-01 06:42:00</td>\n",
       "      <td>6</td>\n",
       "    </tr>\n",
       "    <tr>\n",
       "      <th>2</th>\n",
       "      <td>0</td>\n",
       "      <td>0</td>\n",
       "      <td>2002</td>\n",
       "      <td>9</td>\n",
       "      <td>2</td>\n",
       "      <td>06:22</td>\n",
       "      <td>$120.34</td>\n",
       "      <td>Swipe Transaction</td>\n",
       "      <td>-727612092139916043</td>\n",
       "      <td>Monterey Park</td>\n",
       "      <td>CA</td>\n",
       "      <td>91754.0</td>\n",
       "      <td>5411</td>\n",
       "      <td>NaN</td>\n",
       "      <td>No</td>\n",
       "      <td>6</td>\n",
       "      <td>22</td>\n",
       "      <td>2002-09-02 06:22:00</td>\n",
       "      <td>0</td>\n",
       "    </tr>\n",
       "    <tr>\n",
       "      <th>3</th>\n",
       "      <td>0</td>\n",
       "      <td>0</td>\n",
       "      <td>2002</td>\n",
       "      <td>9</td>\n",
       "      <td>2</td>\n",
       "      <td>17:45</td>\n",
       "      <td>$128.95</td>\n",
       "      <td>Swipe Transaction</td>\n",
       "      <td>3414527459579106770</td>\n",
       "      <td>Monterey Park</td>\n",
       "      <td>CA</td>\n",
       "      <td>91754.0</td>\n",
       "      <td>5651</td>\n",
       "      <td>NaN</td>\n",
       "      <td>No</td>\n",
       "      <td>17</td>\n",
       "      <td>45</td>\n",
       "      <td>2002-09-02 17:45:00</td>\n",
       "      <td>0</td>\n",
       "    </tr>\n",
       "    <tr>\n",
       "      <th>4</th>\n",
       "      <td>0</td>\n",
       "      <td>0</td>\n",
       "      <td>2002</td>\n",
       "      <td>9</td>\n",
       "      <td>3</td>\n",
       "      <td>06:23</td>\n",
       "      <td>$104.71</td>\n",
       "      <td>Swipe Transaction</td>\n",
       "      <td>5817218446178736267</td>\n",
       "      <td>La Verne</td>\n",
       "      <td>CA</td>\n",
       "      <td>91750.0</td>\n",
       "      <td>5912</td>\n",
       "      <td>NaN</td>\n",
       "      <td>No</td>\n",
       "      <td>6</td>\n",
       "      <td>23</td>\n",
       "      <td>2002-09-03 06:23:00</td>\n",
       "      <td>1</td>\n",
       "    </tr>\n",
       "  </tbody>\n",
       "</table>\n",
       "</div>"
      ],
      "text/plain": [
       "   User  Card  Year  Month  Day   Time   Amount           Use_Chip  \\\n",
       "0     0     0  2002      9    1  06:21  $134.09  Swipe Transaction   \n",
       "1     0     0  2002      9    1  06:42   $38.48  Swipe Transaction   \n",
       "2     0     0  2002      9    2  06:22  $120.34  Swipe Transaction   \n",
       "3     0     0  2002      9    2  17:45  $128.95  Swipe Transaction   \n",
       "4     0     0  2002      9    3  06:23  $104.71  Swipe Transaction   \n",
       "\n",
       "         Merchant_Name  Merchant_City Merchant_State      Zip   MCC Errors  \\\n",
       "0  3527213246127876953       La Verne             CA  91750.0  5300    NaN   \n",
       "1  -727612092139916043  Monterey Park             CA  91754.0  5411    NaN   \n",
       "2  -727612092139916043  Monterey Park             CA  91754.0  5411    NaN   \n",
       "3  3414527459579106770  Monterey Park             CA  91754.0  5651    NaN   \n",
       "4  5817218446178736267       La Verne             CA  91750.0  5912    NaN   \n",
       "\n",
       "  Is_Fraud  Hour  Minute            DateTime  DayOfWeek  \n",
       "0       No     6      21 2002-09-01 06:21:00          6  \n",
       "1       No     6      42 2002-09-01 06:42:00          6  \n",
       "2       No     6      22 2002-09-02 06:22:00          0  \n",
       "3       No    17      45 2002-09-02 17:45:00          0  \n",
       "4       No     6      23 2002-09-03 06:23:00          1  "
      ]
     },
     "execution_count": 5,
     "metadata": {},
     "output_type": "execute_result"
    }
   ],
   "source": [
    "def feature_eng(df):\n",
    "    # Extract hour and minute from the 'Time' column\n",
    "    df['Hour'] = df['Time'].str.split(':').str[0].astype(int)\n",
    "    df['Minute'] = df['Time'].str.split(':').str[1].astype(int)\n",
    "    df['Year'] = df['Year'].astype(int)\n",
    "    df['Month'] = df['Month'].astype(int)\n",
    "    df['Day'] = df['Day'].astype(int)\n",
    "\n",
    "    # Create a datetime object for each date and time\n",
    "    df['DateTime'] = pd.to_datetime(df[['Year', 'Month', 'Day', 'Hour', 'Minute']])\n",
    "\n",
    "    # Extract the day of the week (0: Monday, 6: Sunday)\n",
    "    df['DayOfWeek'] = df['DateTime'].dt.dayofweek\n",
    "\n",
    "    return df\n",
    "\n",
    "\n",
    "cred_trans = feature_eng(cred_trans.copy())\n",
    "cred_trans.head()\n"
   ]
  },
  {
   "cell_type": "code",
   "execution_count": 6,
   "metadata": {},
   "outputs": [
    {
     "data": {
      "text/plain": [
       "User                       int64\n",
       "Card                       int64\n",
       "Year                       int32\n",
       "Month                      int32\n",
       "Day                        int32\n",
       "Time                      object\n",
       "Amount                    object\n",
       "Use_Chip                  object\n",
       "Merchant_Name              int64\n",
       "Merchant_City             object\n",
       "Merchant_State            object\n",
       "Zip                      float64\n",
       "MCC                        int64\n",
       "Errors                    object\n",
       "Hour                       int32\n",
       "Minute                     int32\n",
       "DateTime          datetime64[ns]\n",
       "DayOfWeek                  int64\n",
       "dtype: object"
      ]
     },
     "execution_count": 6,
     "metadata": {},
     "output_type": "execute_result"
    }
   ],
   "source": [
    "cred_trans.dtypes"
   ]
  },
  {
   "cell_type": "code",
   "execution_count": 6,
   "metadata": {},
   "outputs": [
    {
     "name": "stdout",
     "output_type": "stream",
     "text": [
      "   Merchant_City  City_Transactions Merchant_State  State_Transactions\n",
      "0       La Verne              10912             CA           2591830.0\n",
      "1  Monterey Park               7319             CA           2591830.0\n",
      "2  Monterey Park               7319             CA           2591830.0\n",
      "3  Monterey Park               7319             CA           2591830.0\n",
      "4       La Verne              10912             CA           2591830.0\n"
     ]
    }
   ],
   "source": [
    "# Create a new feature for the frequency of transactions from each city\n",
    "cred_trans['City_Transactions'] = cred_trans.groupby('Merchant_City')['Merchant_City'].transform('count')\n",
    "\n",
    "# Create a new feature for the frequency of transactions from each state\n",
    "cred_trans['State_Transactions'] = cred_trans.groupby('Merchant_State')['Merchant_State'].transform('count')\n",
    "\n",
    "# Print the updated DataFrame\n",
    "print(cred_trans[['Merchant_City', 'City_Transactions', 'Merchant_State', 'State_Transactions']].head())"
   ]
  },
  {
   "cell_type": "code",
   "execution_count": 8,
   "metadata": {},
   "outputs": [
    {
     "data": {
      "text/plain": [
       "['Merchant_State', 'Zip', 'Errors', 'State_Transactions']"
      ]
     },
     "execution_count": 8,
     "metadata": {},
     "output_type": "execute_result"
    }
   ],
   "source": [
    "## Iterating through columns to find out which columns contain nulls via list comprehension\n",
    "[features for features in cred_trans.columns if cred_trans[features].isnull().sum()>0]\n",
    "## Three columns have nulls"
   ]
  },
  {
   "cell_type": "code",
   "execution_count": 8,
   "metadata": {},
   "outputs": [
    {
     "data": {
      "text/plain": [
       "No     24357143\n",
       "Yes       29757\n",
       "Name: Is_Fraud, dtype: int64"
      ]
     },
     "execution_count": 8,
     "metadata": {},
     "output_type": "execute_result"
    }
   ],
   "source": [
    "cred_trans['Is_Fraud'].value_counts()"
   ]
  },
  {
   "cell_type": "code",
   "execution_count": 10,
   "metadata": {},
   "outputs": [
    {
     "data": {
      "text/plain": [
       "No     99.87798\n",
       "Yes     0.12202\n",
       "Name: Is_Fraud, dtype: float64"
      ]
     },
     "execution_count": 10,
     "metadata": {},
     "output_type": "execute_result"
    }
   ],
   "source": [
    "cred_trans['Is_Fraud'].value_counts()/len(cred_trans)*100"
   ]
  },
  {
   "cell_type": "code",
   "execution_count": 11,
   "metadata": {},
   "outputs": [
    {
     "data": {
      "text/plain": [
       "((24357143, 21), (29757, 21))"
      ]
     },
     "execution_count": 11,
     "metadata": {},
     "output_type": "execute_result"
    }
   ],
   "source": [
    "fraud_df = cred_trans[cred_trans['Is_Fraud']=='Yes']\n",
    "non_fraud_df = cred_trans[cred_trans['Is_Fraud']=='No']\n",
    "non_fraud_df.shape,fraud_df.shape"
   ]
  },
  {
   "cell_type": "code",
   "execution_count": 12,
   "metadata": {},
   "outputs": [
    {
     "data": {
      "text/plain": [
       "User                      0\n",
       "Card                      0\n",
       "Year                      0\n",
       "Month                     0\n",
       "Day                       0\n",
       "Time                      0\n",
       "Amount                    0\n",
       "Use_Chip                  0\n",
       "Merchant_Name             0\n",
       "Merchant_City             0\n",
       "Merchant_State        18349\n",
       "Zip                   24852\n",
       "MCC                       0\n",
       "Errors                28471\n",
       "Is_Fraud                  0\n",
       "Hour                      0\n",
       "Minute                    0\n",
       "DateTime                  0\n",
       "DayOfWeek                 0\n",
       "City_Transactions         0\n",
       "State_Transactions    18349\n",
       "dtype: int64"
      ]
     },
     "execution_count": 12,
     "metadata": {},
     "output_type": "execute_result"
    }
   ],
   "source": [
    "## Let's see how many nulls there are in the respective columns\n",
    "fraud_df.isnull().sum()\n",
    "## We also have missing values in Errors which essentially means that there were no errors."
   ]
  },
  {
   "attachments": {},
   "cell_type": "markdown",
   "metadata": {},
   "source": [
    "Range of Years"
   ]
  },
  {
   "cell_type": "code",
   "execution_count": 13,
   "metadata": {},
   "outputs": [
    {
     "data": {
      "text/plain": [
       "(1996, 2020)"
      ]
     },
     "execution_count": 13,
     "metadata": {},
     "output_type": "execute_result"
    }
   ],
   "source": [
    "fraud_df.Year.sort_values().min(),cred_trans.Year.sort_values().max()"
   ]
  },
  {
   "cell_type": "code",
   "execution_count": 14,
   "metadata": {},
   "outputs": [
    {
     "data": {
      "text/plain": [
       "Insufficient Balance                    396\n",
       "Bad PIN                                 302\n",
       "Bad CVV                                 280\n",
       "Bad Expiration                          120\n",
       "Bad Card Number                         105\n",
       "Technical Glitch                         63\n",
       "Bad PIN,Insufficient Balance              7\n",
       "Bad CVV,Insufficient Balance              4\n",
       "Bad Expiration,Bad CVV                    2\n",
       "Bad Expiration,Technical Glitch           2\n",
       "Bad Card Number,Insufficient Balance      2\n",
       "Bad Expiration,Insufficient Balance       1\n",
       "Bad PIN,Technical Glitch                  1\n",
       "Bad CVV,Technical Glitch                  1\n",
       "Name: Errors, dtype: int64"
      ]
     },
     "execution_count": 14,
     "metadata": {},
     "output_type": "execute_result"
    }
   ],
   "source": [
    "## Let's see how many different type of errors there are.\n",
    "fraud_df['Errors'].value_counts()\n",
    "## There are 22 different types of errors (excluding the NaNs)"
   ]
  },
  {
   "cell_type": "code",
   "execution_count": 26,
   "metadata": {},
   "outputs": [
    {
     "data": {
      "image/png": "[encoded data removed]",
      "text/plain": [
       "<Figure size 1000x600 with 1 Axes>"
      ]
     },
     "metadata": {},
     "output_type": "display_data"
    }
   ],
   "source": [
    "sns.set(style=\"darkgrid\")\n",
    "plt.figure(figsize=(10, 6))\n",
    "ax = sns.countplot(x=\"Errors\", data=fraud_df, palette=\"Set3\")\n",
    "plt.title(\"Distribution of Errors in Fraudulent Credit Transactions\")\n",
    "ax.set_xticklabels(ax.get_xticklabels(), rotation=45, ha=\"right\")\n",
    "plt.show()\n"
   ]
  },
  {
   "cell_type": "code",
   "execution_count": 16,
   "metadata": {},
   "outputs": [
    {
     "data": {
      "text/plain": [
       "array(['Swipe Transaction', 'Online Transaction', 'Chip Transaction'],\n",
       "      dtype=object)"
      ]
     },
     "execution_count": 16,
     "metadata": {},
     "output_type": "execute_result"
    }
   ],
   "source": [
    "cred_trans.Use_Chip.unique()\n",
    "\n",
    "## There are 3 different types of transactions being done: 1) Swipe 2) Online 3) Chip\n",
    "## We could probably map these numerically"
   ]
  },
  {
   "cell_type": "code",
   "execution_count": 17,
   "metadata": {},
   "outputs": [
    {
     "data": {
      "image/png": "[encoded data removed]",
      "text/plain": [
       "<Figure size 640x480 with 1 Axes>"
      ]
     },
     "metadata": {},
     "output_type": "display_data"
    }
   ],
   "source": [
    "errs_by_chip = fraud_df.groupby('Use_Chip')[['Errors']].count().sort_values('Errors', ascending = True)\n",
    "sns.barplot(x=errs_by_chip.index, y='Errors', data=errs_by_chip)\n",
    "plt.title(\"Number of Errors by Use Chip\")\n",
    "plt.xlabel(\"Use Chip\")\n",
    "plt.ylabel(\"Number of Errors\")\n",
    "plt.show()"
   ]
  },
  {
   "attachments": {},
   "cell_type": "markdown",
   "metadata": {},
   "source": [
    "## **Statistical analysis**"
   ]
  },
  {
   "cell_type": "code",
   "execution_count": 18,
   "metadata": {},
   "outputs": [],
   "source": [
    "import scipy.stats as stats\n",
    "\n",
    "def hypothesistesting(df,error_counts):\n",
    "    \n",
    "\n",
    "    # Select low occurrence errors based on a threshold (e.g., < 100 occurrences)\n",
    "    low_occurrence_errors = error_counts[error_counts < 50]\n",
    "\n",
    "    # Get the majority of errors (with higher occurrence)\n",
    "    majority_errors = error_counts[error_counts >= 50]\n",
    "\n",
    "    # Create a contingency table with low occurrence errors and majority errors\n",
    "    contingency_table = pd.crosstab(index=error_data.isin(low_occurrence_errors.index), columns=\"Count\")\n",
    "\n",
    "    # Perform chi-square test\n",
    "    chi2, p_value, _, _ = stats.chi2_contingency(contingency_table)\n",
    "\n",
    "    return chi2, p_value\n",
    "\n"
   ]
  },
  {
   "cell_type": "code",
   "execution_count": 19,
   "metadata": {},
   "outputs": [
    {
     "data": {
      "text/plain": [
       "Insufficient Balance                    396\n",
       "Bad PIN                                 302\n",
       "Bad CVV                                 280\n",
       "Bad Expiration                          120\n",
       "Bad Card Number                         105\n",
       "Technical Glitch                         63\n",
       "Bad PIN,Insufficient Balance              7\n",
       "Bad CVV,Insufficient Balance              4\n",
       "Bad Expiration,Bad CVV                    2\n",
       "Bad Expiration,Technical Glitch           2\n",
       "Bad Card Number,Insufficient Balance      2\n",
       "Bad Expiration,Insufficient Balance       1\n",
       "Bad PIN,Technical Glitch                  1\n",
       "Bad CVV,Technical Glitch                  1\n",
       "Name: Errors, dtype: int64"
      ]
     },
     "execution_count": 19,
     "metadata": {},
     "output_type": "execute_result"
    }
   ],
   "source": [
    "# Assuming 'df' is your DataFrame containing the error data\n",
    "error_data = fraud_df['Errors']\n",
    "\n",
    "# Calculate the frequency of each error type\n",
    "error_counts = error_data.value_counts()\n",
    "\n",
    "error_counts"
   ]
  },
  {
   "cell_type": "code",
   "execution_count": 20,
   "metadata": {},
   "outputs": [
    {
     "name": "stdout",
     "output_type": "stream",
     "text": [
      "Chi-square statistic: 0.0\n",
      "P-value: 1.0\n"
     ]
    }
   ],
   "source": [
    "chi2, p_value = hypothesistesting(fraud_df,error_counts)\n",
    "\n",
    "# Print the results\n",
    "print(\"Chi-square statistic:\", chi2)\n",
    "print(\"P-value:\", p_value)"
   ]
  },
  {
   "cell_type": "code",
   "execution_count": 21,
   "metadata": {},
   "outputs": [
    {
     "name": "stderr",
     "output_type": "stream",
     "text": [
      "C:\\Users\\adity\\AppData\\Local\\Temp\\ipykernel_4140\\2309639967.py:25: FutureWarning: The frame.append method is deprecated and will be removed from pandas in a future version. Use pandas.concat instead.\n",
      "  consequent_attempts_df = consequent_attempts_df.append(previous_row, ignore_index=True)\n",
      "C:\\Users\\adity\\AppData\\Local\\Temp\\ipykernel_4140\\2309639967.py:26: FutureWarning: The frame.append method is deprecated and will be removed from pandas in a future version. Use pandas.concat instead.\n",
      "  consequent_attempts_df = consequent_attempts_df.append(row, ignore_index=True)\n"
     ]
    }
   ],
   "source": [
    "\n",
    "# Sort the dataset based on 'User', 'Card', and 'DateTime' columns in ascending order\n",
    "sorted_df = fraud_df.sort_values(['User', 'Card', 'DateTime'], ascending=True)\n",
    "\n",
    "# Create an empty DataFrame to store consequent transaction attempts\n",
    "consequent_attempts_df = pd.DataFrame(columns=fraud_df.columns)\n",
    "\n",
    "# Initialize the previous_row variable\n",
    "previous_row = None\n",
    "\n",
    "# Iterate through the sorted dataset\n",
    "for index, row in sorted_df.iterrows():\n",
    "    # Check if it's the first row\n",
    "    if previous_row is None:\n",
    "        previous_row = row\n",
    "        continue\n",
    "\n",
    "    # Check if the current row belongs to the same user and card as the previous row\n",
    "    if row['User'] == previous_row['User'] and row['Card'] == previous_row['Card']:\n",
    "        # Calculate the time difference between the current and previous transactions\n",
    "        time_diff = row['DateTime'] - previous_row['DateTime']\n",
    "\n",
    "        # Specify a time threshold (e.g., 5 minutes) to consider transactions as consequent attempts\n",
    "        if time_diff.total_seconds() <= 300:\n",
    "            # Append the pair of previous_row and current row to the consequent_attempts_df DataFrame\n",
    "            consequent_attempts_df = consequent_attempts_df.append(previous_row, ignore_index=True)\n",
    "            consequent_attempts_df = consequent_attempts_df.append(row, ignore_index=True)\n",
    "\n",
    "    # Update the previous_row variable\n",
    "    previous_row = row\n"
   ]
  },
  {
   "cell_type": "code",
   "execution_count": 22,
   "metadata": {},
   "outputs": [
    {
     "data": {
      "text/plain": [
       "(4072, 21)"
      ]
     },
     "execution_count": 22,
     "metadata": {},
     "output_type": "execute_result"
    }
   ],
   "source": [
    "consequent_attempts_df.shape"
   ]
  },
  {
   "cell_type": "code",
   "execution_count": 23,
   "metadata": {},
   "outputs": [
    {
     "data": {
      "text/plain": [
       "(4047, 21)"
      ]
     },
     "execution_count": 23,
     "metadata": {},
     "output_type": "execute_result"
    }
   ],
   "source": [
    "# Remove duplicate rows from consequent_attempts_df\n",
    "consequent_attempts_df = consequent_attempts_df.drop_duplicates()\n",
    "consequent_attempts_df.shape"
   ]
  },
  {
   "cell_type": "code",
   "execution_count": 24,
   "metadata": {},
   "outputs": [
    {
     "data": {
      "text/html": [
       "<div>\n",
       "<style scoped>\n",
       "    .dataframe tbody tr th:only-of-type {\n",
       "        vertical-align: middle;\n",
       "    }\n",
       "\n",
       "    .dataframe tbody tr th {\n",
       "        vertical-align: top;\n",
       "    }\n",
       "\n",
       "    .dataframe thead th {\n",
       "        text-align: right;\n",
       "    }\n",
       "</style>\n",
       "<table border=\"1\" class=\"dataframe\">\n",
       "  <thead>\n",
       "    <tr style=\"text-align: right;\">\n",
       "      <th></th>\n",
       "      <th>User</th>\n",
       "      <th>Card</th>\n",
       "      <th>Year</th>\n",
       "      <th>Month</th>\n",
       "      <th>Day</th>\n",
       "      <th>Time</th>\n",
       "      <th>Amount</th>\n",
       "      <th>Use_Chip</th>\n",
       "      <th>Merchant_Name</th>\n",
       "      <th>Merchant_City</th>\n",
       "      <th>...</th>\n",
       "      <th>Zip</th>\n",
       "      <th>MCC</th>\n",
       "      <th>Errors</th>\n",
       "      <th>Is_Fraud</th>\n",
       "      <th>Hour</th>\n",
       "      <th>Minute</th>\n",
       "      <th>DateTime</th>\n",
       "      <th>DayOfWeek</th>\n",
       "      <th>City_Transactions</th>\n",
       "      <th>State_Transactions</th>\n",
       "    </tr>\n",
       "  </thead>\n",
       "  <tbody>\n",
       "    <tr>\n",
       "      <th>0</th>\n",
       "      <td>0</td>\n",
       "      <td>0</td>\n",
       "      <td>2015</td>\n",
       "      <td>11</td>\n",
       "      <td>16</td>\n",
       "      <td>09:41</td>\n",
       "      <td>$50.81</td>\n",
       "      <td>Online Transaction</td>\n",
       "      <td>-551332107213382088</td>\n",
       "      <td>ONLINE</td>\n",
       "      <td>...</td>\n",
       "      <td>NaN</td>\n",
       "      <td>4411</td>\n",
       "      <td>NaN</td>\n",
       "      <td>Yes</td>\n",
       "      <td>9</td>\n",
       "      <td>41</td>\n",
       "      <td>2015-11-16 09:41:00</td>\n",
       "      <td>0</td>\n",
       "      <td>2720821</td>\n",
       "      <td>NaN</td>\n",
       "    </tr>\n",
       "    <tr>\n",
       "      <th>1</th>\n",
       "      <td>0</td>\n",
       "      <td>0</td>\n",
       "      <td>2015</td>\n",
       "      <td>11</td>\n",
       "      <td>16</td>\n",
       "      <td>09:46</td>\n",
       "      <td>$248.36</td>\n",
       "      <td>Online Transaction</td>\n",
       "      <td>4872340518840476610</td>\n",
       "      <td>ONLINE</td>\n",
       "      <td>...</td>\n",
       "      <td>NaN</td>\n",
       "      <td>5732</td>\n",
       "      <td>NaN</td>\n",
       "      <td>Yes</td>\n",
       "      <td>9</td>\n",
       "      <td>46</td>\n",
       "      <td>2015-11-16 09:46:00</td>\n",
       "      <td>0</td>\n",
       "      <td>2720821</td>\n",
       "      <td>NaN</td>\n",
       "    </tr>\n",
       "  </tbody>\n",
       "</table>\n",
       "<p>2 rows × 21 columns</p>\n",
       "</div>"
      ],
      "text/plain": [
       "  User Card  Year Month Day   Time   Amount            Use_Chip  \\\n",
       "0    0    0  2015    11  16  09:41   $50.81  Online Transaction   \n",
       "1    0    0  2015    11  16  09:46  $248.36  Online Transaction   \n",
       "\n",
       "         Merchant_Name Merchant_City  ... Zip   MCC Errors Is_Fraud Hour  \\\n",
       "0  -551332107213382088        ONLINE  ... NaN  4411    NaN      Yes    9   \n",
       "1  4872340518840476610        ONLINE  ... NaN  5732    NaN      Yes    9   \n",
       "\n",
       "  Minute            DateTime DayOfWeek City_Transactions State_Transactions  \n",
       "0     41 2015-11-16 09:41:00         0           2720821                NaN  \n",
       "1     46 2015-11-16 09:46:00         0           2720821                NaN  \n",
       "\n",
       "[2 rows x 21 columns]"
      ]
     },
     "execution_count": 24,
     "metadata": {},
     "output_type": "execute_result"
    }
   ],
   "source": [
    "consequent_attempts_df.head(2)"
   ]
  },
  {
   "attachments": {},
   "cell_type": "markdown",
   "metadata": {},
   "source": [
    "Based on the first 2 rows, the consecutive transactions seem to be a ***refund***. \n",
    "\n",
    "The first transaction has a positive amount of $59.00, while the second transaction has a negative amount of -$59.00. This pattern suggests that the second transaction is a refund associated with the previous transaction."
   ]
  },
  {
   "cell_type": "code",
   "execution_count": 25,
   "metadata": {},
   "outputs": [
    {
     "ename": "NameError",
     "evalue": "name 'consequent_attempts' is not defined",
     "output_type": "error",
     "traceback": [
      "\u001b[1;31m---------------------------------------------------------------------------\u001b[0m",
      "\u001b[1;31mNameError\u001b[0m                                 Traceback (most recent call last)",
      "Cell \u001b[1;32mIn[25], line 1\u001b[0m\n\u001b[1;32m----> 1\u001b[0m \u001b[39mtype\u001b[39m(consequent_attempts[\u001b[39m0\u001b[39m])\n",
      "\u001b[1;31mNameError\u001b[0m: name 'consequent_attempts' is not defined"
     ]
    }
   ],
   "source": [
    "type(consequent_attempts[0])"
   ]
  },
  {
   "cell_type": "code",
   "execution_count": null,
   "metadata": {},
   "outputs": [],
   "source": []
  }
 ],
 "metadata": {
  "kernelspec": {
   "display_name": "base",
   "language": "python",
   "name": "python3"
  },
  "language_info": {
   "codemirror_mode": {
    "name": "ipython",
    "version": 3
   },
   "file_extension": ".py",
   "mimetype": "text/x-python",
   "name": "python",
   "nbconvert_exporter": "python",
   "pygments_lexer": "ipython3",
   "version": "3.9.16"
  },
  "orig_nbformat": 4
 },
 "nbformat": 4,
 "nbformat_minor": 2
}
